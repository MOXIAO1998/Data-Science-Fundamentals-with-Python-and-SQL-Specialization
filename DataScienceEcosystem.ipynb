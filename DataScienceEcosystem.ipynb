{
 "cells": [
  {
   "cell_type": "markdown",
   "id": "f30774f5",
   "metadata": {},
   "source": [
    "## Exercise 2 - Create a markdown cell with the title of the notebook. (1 pt)"
   ]
  },
  {
   "cell_type": "markdown",
   "id": "4b4b5b17",
   "metadata": {},
   "source": [
    "# Data Science Tools and Ecosystem"
   ]
  },
  {
   "cell_type": "markdown",
   "id": "95c4da01",
   "metadata": {},
   "source": [
    "## Exercise 3 - Create a markdown cell for an introduction. (1 pt)"
   ]
  },
  {
   "cell_type": "markdown",
   "id": "fc5aeed7",
   "metadata": {},
   "source": [
    "In this notebook, Data Science Tools and Ecosystem are summarized"
   ]
  },
  {
   "cell_type": "markdown",
   "id": "691cabf2",
   "metadata": {},
   "source": [
    "## Exercise 4 - Create a markdown cell to list data science languages. (3 pts)"
   ]
  },
  {
   "cell_type": "markdown",
   "id": "b34f4452",
   "metadata": {},
   "source": [
    "Some of the popular languages that Data Scientists use are:\n",
    "\n",
    "1. Python.\n",
    "2. R.\n",
    "3. SQL.\n",
    "4. Java.\n",
    "5. Julia.\n",
    "6. Scala.\n",
    "7. C/C++.\n",
    "8. JavaScript."
   ]
  },
  {
   "cell_type": "markdown",
   "id": "897987b8",
   "metadata": {},
   "source": [
    "## Exercise 5 - Create a markdown cell to list data science libraries. (3 pts)\n",
    "\n"
   ]
  },
  {
   "cell_type": "markdown",
   "id": "2188d912",
   "metadata": {},
   "source": [
    "Some of the commonly used libraries used by Data Scientists include:\n",
    "\n",
    "1. TensorFlow.\n",
    "2. NumPy.\n",
    "3. SciPy.\n",
    "4. Pandas.\n",
    "5. Matplotlib.\n",
    "6. Keras.\n",
    "7. SciKit-Learn.\n",
    "8. PyTorch.\n",
    "9. Scrapy.\n",
    "10. BeautifulSoup.\n",
    "11. LightGBM.\n",
    "12. ELI5.\n",
    "13. Theano.\n",
    "14. NuPIC.\n",
    "15. Ramp.\n",
    "16. Pipenv.\n",
    "17. Bob.\n",
    "18. PyBrain.\n",
    "19. Caffe2.\n",
    "20. Chainer."
   ]
  },
  {
   "cell_type": "markdown",
   "id": "81f3ac7c",
   "metadata": {},
   "source": [
    "## Exercise 6 - Create a markdown cell with a table of Data Science tools. (3 pts)\n",
    "\n"
   ]
  },
  {
   "cell_type": "markdown",
   "id": "1e01a643",
   "metadata": {},
   "source": [
    "|Data Science Tools|\n",
    "|------------------|\n",
    "|SAS. It is one of those data science tools which are specifically designed for statistical operation|\n",
    "|Apache Spark\t|\n",
    "|BigML\t|"
   ]
  },
  {
   "cell_type": "markdown",
   "id": "282dbfe8",
   "metadata": {},
   "source": [
    "## Exercise 7 - Create a markdown cell introducing arithmetic expression examples. (1 pt)"
   ]
  },
  {
   "cell_type": "markdown",
   "id": "d2f58b23",
   "metadata": {},
   "source": [
    "### Below are a few examples of evaluating arithmetic expressions in Python"
   ]
  },
  {
   "cell_type": "markdown",
   "id": "75e9c532",
   "metadata": {},
   "source": [
    "## Exercise 8 - Create a code cell to multiply and add numbers. (2 pts)\n",
    "\n"
   ]
  },
  {
   "cell_type": "markdown",
   "id": "3b883362",
   "metadata": {},
   "source": [
    "This a simple arithmetic expression to mutiply then add integers.m"
   ]
  },
  {
   "cell_type": "code",
   "execution_count": 13,
   "id": "14eb70b9",
   "metadata": {
    "scrolled": true
   },
   "outputs": [
    {
     "data": {
      "text/plain": [
       "17"
      ]
     },
     "execution_count": 13,
     "metadata": {},
     "output_type": "execute_result"
    }
   ],
   "source": [
    "(3*4)+5"
   ]
  },
  {
   "cell_type": "markdown",
   "id": "bb25dafd",
   "metadata": {},
   "source": [
    "## Exercise 9 - Create a code cell to convert minutes to hours. (2 pts)"
   ]
  },
  {
   "cell_type": "markdown",
   "id": "b5aae5cb",
   "metadata": {},
   "source": [
    "This will convert 200 minutes to hours by diving by 60"
   ]
  },
  {
   "cell_type": "code",
   "execution_count": 14,
   "id": "309b495b",
   "metadata": {},
   "outputs": [
    {
     "data": {
      "text/plain": [
       "3.3333333333333335"
      ]
     },
     "execution_count": 14,
     "metadata": {},
     "output_type": "execute_result"
    }
   ],
   "source": [
    "200/60"
   ]
  },
  {
   "cell_type": "markdown",
   "id": "2927c6e7",
   "metadata": {},
   "source": [
    "## Exercise 10 -Insert a markdown cell to list Objectives. (3 pts)\n",
    "\n"
   ]
  },
  {
   "cell_type": "markdown",
   "id": "0bc7d05b",
   "metadata": {},
   "source": [
    "**Objectives:**\n",
    "\n",
    "- python\n",
    "- R\n",
    "- Julia\n",
    "- Github\n",
    "- SQL\n"
   ]
  },
  {
   "cell_type": "markdown",
   "id": "e47b4585",
   "metadata": {},
   "source": [
    "## Exercise 11 - Create a markdown cell to indicate the Author’s name. (2 pts)\n",
    "\n"
   ]
  },
  {
   "cell_type": "markdown",
   "id": "24178d25",
   "metadata": {},
   "source": [
    "## Author: "
   ]
  },
  {
   "cell_type": "markdown",
   "id": "07c866e4",
   "metadata": {},
   "source": [
    "Moxiao Li"
   ]
  },
  {
   "cell_type": "markdown",
   "id": "ec11e892",
   "metadata": {},
   "source": [
    "## Exercise 12 - Share your notebook through GitHub (3 pts)\n",
    "\n"
   ]
  },
  {
   "cell_type": "markdown",
   "id": "dbab9648",
   "metadata": {},
   "source": [
    "## Exercise 13 - Take a screenshot of the first page of the notebook. (1 pt)\n",
    "\n"
   ]
  }
 ],
 "metadata": {
  "kernelspec": {
   "display_name": "Python 3 (ipykernel)",
   "language": "python",
   "name": "python3"
  },
  "language_info": {
   "codemirror_mode": {
    "name": "ipython",
    "version": 3
   },
   "file_extension": ".py",
   "mimetype": "text/x-python",
   "name": "python",
   "nbconvert_exporter": "python",
   "pygments_lexer": "ipython3",
   "version": "3.11.5"
  }
 },
 "nbformat": 4,
 "nbformat_minor": 5
}
